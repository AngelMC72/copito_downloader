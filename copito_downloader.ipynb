{
 "cells": [
  {
   "cell_type": "code",
   "execution_count": 24,
   "metadata": {},
   "outputs": [],
   "source": [
    "#Copito downloader\n",
    "import urllib, json \n",
    "import requests\n",
    "from bs4 import BeautifulSoup\n",
    "import io\n",
    "import os\n",
    "import glob\n",
    "import shutil\n",
    "import re\n",
    "from csv import DictReader\n",
    "import time\n",
    "import ffmpeg"
   ]
  },
  {
   "cell_type": "code",
   "execution_count": 26,
   "metadata": {
    "collapsed": true
   },
   "outputs": [
    {
     "data": {
      "text/plain": [
       "['wvy91wgcwc',\n",
       " 'asaezv51mh',\n",
       " 'kjo905lu2n',\n",
       " '7ey0wzjmfn',\n",
       " 'pwswrns9gz',\n",
       " 'umpnvvi4kh',\n",
       " 't3scsk00pf',\n",
       " '7k3ouev3e9',\n",
       " '3k5ynn9vjr',\n",
       " '831fizu2y1',\n",
       " 'oc1xsq7sg6',\n",
       " '53fndcoegv',\n",
       " 'nz9hsfyqw3',\n",
       " 'w6oovdy4rc',\n",
       " 'vmh7u1qz5f',\n",
       " 'kbwmozjtip',\n",
       " 'cs1x3p6upf',\n",
       " 'gd8vtarkhu',\n",
       " 'h2oa2flchk',\n",
       " 'reh0cu4px8',\n",
       " 'zqh4k26awi',\n",
       " 'bjw0u5rngb',\n",
       " 'kn9kt3eh02',\n",
       " 't9eh1gppnn',\n",
       " '8vjfa3r6s0',\n",
       " 'ovveysbfiu']"
      ]
     },
     "execution_count": 26,
     "metadata": {},
     "output_type": "execute_result"
    }
   ],
   "source": [
    "# Get codes from the csv file\n",
    "with open(\"paste_here.csv\") as f:\n",
    "    long_links = [row[\"id\"] for row in DictReader(f)]\n",
    "\n",
    "codes =[]\n",
    "for ll in long_links:\n",
    "    code = re.findall(r'wvideo=(.*?)\"', ll)\n",
    "    codes.append(code[0])\n",
    "\n",
    "codes"
   ]
  },
  {
   "cell_type": "code",
   "execution_count": 27,
   "metadata": {},
   "outputs": [],
   "source": [
    "video_names = []\n",
    "bin_links = []\n",
    "json_links =[]\n",
    "video_namecheck =[]"
   ]
  },
  {
   "cell_type": "code",
   "execution_count": 28,
   "metadata": {
    "collapsed": true
   },
   "outputs": [
    {
     "data": {
      "text/plain": [
       "['https://fast.wistia.com/embed/medias/wvy91wgcwc.json',\n",
       " 'https://fast.wistia.com/embed/medias/asaezv51mh.json',\n",
       " 'https://fast.wistia.com/embed/medias/kjo905lu2n.json',\n",
       " 'https://fast.wistia.com/embed/medias/7ey0wzjmfn.json',\n",
       " 'https://fast.wistia.com/embed/medias/pwswrns9gz.json',\n",
       " 'https://fast.wistia.com/embed/medias/umpnvvi4kh.json',\n",
       " 'https://fast.wistia.com/embed/medias/t3scsk00pf.json',\n",
       " 'https://fast.wistia.com/embed/medias/7k3ouev3e9.json',\n",
       " 'https://fast.wistia.com/embed/medias/3k5ynn9vjr.json',\n",
       " 'https://fast.wistia.com/embed/medias/831fizu2y1.json',\n",
       " 'https://fast.wistia.com/embed/medias/oc1xsq7sg6.json',\n",
       " 'https://fast.wistia.com/embed/medias/53fndcoegv.json',\n",
       " 'https://fast.wistia.com/embed/medias/nz9hsfyqw3.json',\n",
       " 'https://fast.wistia.com/embed/medias/w6oovdy4rc.json',\n",
       " 'https://fast.wistia.com/embed/medias/vmh7u1qz5f.json',\n",
       " 'https://fast.wistia.com/embed/medias/kbwmozjtip.json',\n",
       " 'https://fast.wistia.com/embed/medias/cs1x3p6upf.json',\n",
       " 'https://fast.wistia.com/embed/medias/gd8vtarkhu.json',\n",
       " 'https://fast.wistia.com/embed/medias/h2oa2flchk.json',\n",
       " 'https://fast.wistia.com/embed/medias/reh0cu4px8.json',\n",
       " 'https://fast.wistia.com/embed/medias/zqh4k26awi.json',\n",
       " 'https://fast.wistia.com/embed/medias/bjw0u5rngb.json',\n",
       " 'https://fast.wistia.com/embed/medias/kn9kt3eh02.json',\n",
       " 'https://fast.wistia.com/embed/medias/t9eh1gppnn.json',\n",
       " 'https://fast.wistia.com/embed/medias/8vjfa3r6s0.json',\n",
       " 'https://fast.wistia.com/embed/medias/ovveysbfiu.json']"
      ]
     },
     "execution_count": 28,
     "metadata": {},
     "output_type": "execute_result"
    }
   ],
   "source": [
    "# Get json_links\n",
    "for code in codes:\n",
    "    ts_rem = \"https://fast.wistia.com/embed/medias/\"+str(code)+\".json\"\n",
    "    json_links.append(ts_rem)\n",
    "\n",
    "json_links"
   ]
  },
  {
   "cell_type": "code",
   "execution_count": 29,
   "metadata": {},
   "outputs": [
    {
     "name": "stdout",
     "output_type": "stream",
     "text": [
      "Current Total links: 26\n"
     ]
    }
   ],
   "source": [
    "# Get bin_links and video_names\n",
    "for json_link in json_links:\n",
    "    with urllib.request.urlopen(json_link) as url:\n",
    "        data = json.loads(url.read().decode())\n",
    "        if data['media']['assets']['ext' == \"mp4\"]:\n",
    "            try:\n",
    "                bin_links.append(data['media']['assets']['height' == \"1080\"]['url'])\n",
    "            except:\n",
    "                bin_links.append(data['media']['assets']['height' == \"720\" or 'height' == \"480\"]['url'])\n",
    "            video_names.append(data['media']['name'])\n",
    "\n",
    "print(\"Current Total links:\",len(bin_links))"
   ]
  },
  {
   "cell_type": "code",
   "execution_count": 30,
   "metadata": {
    "collapsed": true
   },
   "outputs": [
    {
     "data": {
      "text/plain": [
       "['https://embed-ssl.wistia.com/deliveries/fc2e69e38f6421cb994831795aaed9f4.bin',\n",
       " 'https://embed-ssl.wistia.com/deliveries/af2aa98cbc5b870c7ce13f7fd030996f.bin',\n",
       " 'https://embed-ssl.wistia.com/deliveries/199a3889235baf3408e3eebb04576db5.bin',\n",
       " 'https://embed-ssl.wistia.com/deliveries/3325c49897ce86628298471c2a965c19.bin',\n",
       " 'https://embed-ssl.wistia.com/deliveries/7a47d8ac045beafd49e8acb6386d41b3.bin',\n",
       " 'https://embed-ssl.wistia.com/deliveries/4c168a76f1fbb4d6b3724f74127bc85d.bin',\n",
       " 'https://embed-ssl.wistia.com/deliveries/d9238fd63175fb07a298a650c2f537ca.bin',\n",
       " 'https://embed-ssl.wistia.com/deliveries/ede7a51017b5fbfc53b1e7decf7e0d27.bin',\n",
       " 'https://embed-ssl.wistia.com/deliveries/4e07d54a205474158f9509a621b3fcb6.bin',\n",
       " 'https://embed-ssl.wistia.com/deliveries/72c1dbd0fe25e5faf9e1f0aa946f38f9.bin',\n",
       " 'https://embed-ssl.wistia.com/deliveries/cbd67e1e2347ddabcae19a634ccf3c84.bin',\n",
       " 'https://embed-ssl.wistia.com/deliveries/b46095dc16ed64bff6c1512c7abfb5ba.bin',\n",
       " 'https://embed-ssl.wistia.com/deliveries/bc866a156c84313c6ab3319942ea84d3.bin',\n",
       " 'https://embed-ssl.wistia.com/deliveries/4e29e6dfa07f6c68cc6719356e12f48c.bin',\n",
       " 'https://embed-ssl.wistia.com/deliveries/3ae983ef647fc67d3bd18e574c06426f.bin',\n",
       " 'https://embed-ssl.wistia.com/deliveries/9595047262b114e548200666eebebcab.bin',\n",
       " 'https://embed-ssl.wistia.com/deliveries/e0fda4b67697e4077e026fe2585a8f19.bin',\n",
       " 'https://embed-ssl.wistia.com/deliveries/afe568caeb4d40ba2fbb910a409636fb.bin',\n",
       " 'https://embed-ssl.wistia.com/deliveries/4264007525bc5f4426ebfd17517b2921.bin',\n",
       " 'https://embed-ssl.wistia.com/deliveries/bd425b8defb7cffe4de7a417068165e2.bin',\n",
       " 'https://embed-ssl.wistia.com/deliveries/aebf6c7549a9dfff745b7c98a2ab0e6b.bin',\n",
       " 'https://embed-ssl.wistia.com/deliveries/f6a5650b361c5f73def84b0d406eeccb.bin',\n",
       " 'https://embed-ssl.wistia.com/deliveries/60cc2814a1d854c47067ed7c3858d15c.bin',\n",
       " 'https://embed-ssl.wistia.com/deliveries/a7f698ef88fbe73fd5c6ad339bad58d1.bin',\n",
       " 'https://embed-ssl.wistia.com/deliveries/b3c1467f9ca89f565c2cc63a93e90334.bin',\n",
       " 'https://embed-ssl.wistia.com/deliveries/86ea7b210d062df0553f202c441e4fba.bin']"
      ]
     },
     "execution_count": 30,
     "metadata": {},
     "output_type": "execute_result"
    }
   ],
   "source": [
    "bin_links"
   ]
  },
  {
   "cell_type": "code",
   "execution_count": 31,
   "metadata": {
    "collapsed": true
   },
   "outputs": [
    {
     "data": {
      "text/plain": [
       "['1.1-MO-Conceptos y nociones básicas de Model Builder.mp4',\n",
       " '1.2-MO-Reconocimento de interfaz de Model Builder.mp4',\n",
       " '1.3-MO-Crear Geoprocesos con Model Builder.mp4',\n",
       " '1.4-MO-Asignación de variables y parámetros.mp4',\n",
       " '2.1-MO-Generación de un modelo Automatizado.mp4',\n",
       " '2.2-MO-Definir variables y parámetros del modelo.mp4',\n",
       " '2.3-MO-Acceder a las propiedades del diagrama.mp4',\n",
       " '2.4-MO-Acceder a propiedades de modelo.mp4',\n",
       " '3.1-MO-Filtro de lista y rango de valores.mp4',\n",
       " '3.2-MO-Filtro de archivo y campo.mp4',\n",
       " '3.3-MO-Filtro de Entidad y Workspace.mp4',\n",
       " '4.1-MO-Administración de datos intermedios.mp4',\n",
       " '4.2-MO-Variable del modelo.mp4',\n",
       " '4.3-MO-Variable del sistema %n%.mp4',\n",
       " '4.4-MO-Variable del sistema %i%.mp4',\n",
       " '5.1-MO-Feature Selection.mp4',\n",
       " '5.2-MO-Iterador Raster.mp4',\n",
       " '5.3-MO-Iterador Feature Class.mp4',\n",
       " '6.1-MO-Mosaico de imágenes satelitales.mp4',\n",
       " '6.2-MO-Clasificación de imágenes satelitales.mp4',\n",
       " '7.1-MO-Delimitación de cuenca hidrográfica.mp4',\n",
       " '7.2-MO-Obtención de red hídrica.mp4',\n",
       " '8.1-MO-Criterio de Análisis.mp4',\n",
       " '8.2-MO-Generación de modelo RS - parte 1.mp4',\n",
       " '8.3-MO-Generación de modelo RS parte 2.mp4',\n",
       " '8.4-MO-Configuración de parámetros del modelo RS.mp4']"
      ]
     },
     "execution_count": 31,
     "metadata": {},
     "output_type": "execute_result"
    }
   ],
   "source": [
    "video_names"
   ]
  },
  {
   "cell_type": "code",
   "execution_count": 32,
   "metadata": {
    "collapsed": true
   },
   "outputs": [
    {
     "data": {
      "text/plain": [
       "['1_1_Conceptos y nociones básicas de Model Builder.mp4',\n",
       " '1_2_Reconocimento de interfaz de Model Builder.mp4',\n",
       " '1_3_Crear Geoprocesos con Model Builder.mp4',\n",
       " '1_4_Asignación de variables y parámetros.mp4',\n",
       " '2_1_Generación de un modelo Automatizado.mp4',\n",
       " '2_2_Definir variables y parámetros del modelo.mp4',\n",
       " '2_3_Acceder a las propiedades del diagrama.mp4',\n",
       " '2_4_Acceder a propiedades de modelo.mp4',\n",
       " '3_1_Filtro de lista y rango de valores.mp4',\n",
       " '3_2_Filtro de archivo y campo.mp4',\n",
       " '3_3_Filtro de Entidad y Workspace.mp4',\n",
       " '4_1_Administración de datos intermedios.mp4',\n",
       " '4_2_Variable del modelo.mp4',\n",
       " '4_3_Variable del sistema %n%.mp4',\n",
       " '4_4_Variable del sistema %i%.mp4',\n",
       " '5_1_Feature Selection.mp4',\n",
       " '5_2_Iterador Raster.mp4',\n",
       " '5_3_Iterador Feature Class.mp4',\n",
       " '6_1_Mosaico de imágenes satelitales.mp4',\n",
       " '6_2_Clasificación de imágenes satelitales.mp4',\n",
       " '7_1_Delimitación de cuenca hidrográfica.mp4',\n",
       " '7_2_Obtención de red hídrica.mp4',\n",
       " '8_1_Criterio de Análisis.mp4',\n",
       " '8_2_Generación de modelo RS - parte 1.mp4',\n",
       " '8_3_Generación de modelo RS parte 2.mp4',\n",
       " '8_4_Configuración de parámetros del modelo RS.mp4']"
      ]
     },
     "execution_count": 32,
     "metadata": {},
     "output_type": "execute_result"
    }
   ],
   "source": [
    "#Format the video names\n",
    "video_names_f = []\n",
    "for i in video_names:\n",
    "    if i.startswith(\"Cap\"):\n",
    "        i = i[4:]\n",
    "    i = i.replace(\":\", \"-\")\n",
    "    i = i.replace(\".\", \"_\", 1)\n",
    "    i = re.sub(\"-.*?-\", \"_\", i)\n",
    "    video_names_f.append(i)\n",
    "    \n",
    "video_names_f"
   ]
  },
  {
   "cell_type": "code",
   "execution_count": 33,
   "metadata": {
    "collapsed": true
   },
   "outputs": [
    {
     "data": {
      "text/plain": [
       "['1_1_Conceptos y nociones básicas de Model Builder.mp4',\n",
       " '1_2_Reconocimento de interfaz de Model Builder.mp4',\n",
       " '1_3_Crear Geoprocesos con Model Builder.mp4',\n",
       " '1_4_Asignación de variables y parámetros.mp4',\n",
       " '2_1_Generación de un modelo Automatizado.mp4',\n",
       " '2_2_Definir variables y parámetros del modelo.mp4',\n",
       " '2_3_Acceder a las propiedades del diagrama.mp4',\n",
       " '2_4_Acceder a propiedades de modelo.mp4',\n",
       " '3_1_Filtro de lista y rango de valores.mp4',\n",
       " '3_2_Filtro de archivo y campo.mp4',\n",
       " '3_3_Filtro de Entidad y Workspace.mp4',\n",
       " '4_1_Administración de datos intermedios.mp4',\n",
       " '4_2_Variable del modelo.mp4',\n",
       " '4_3_Variable del sistema %n%.mp4',\n",
       " '4_4_Variable del sistema %i%.mp4',\n",
       " '5_1_Feature Selection.mp4',\n",
       " '5_2_Iterador Raster.mp4',\n",
       " '5_3_Iterador Feature Class.mp4',\n",
       " '6_1_Mosaico de imágenes satelitales.mp4',\n",
       " '6_2_Clasificación de imágenes satelitales.mp4',\n",
       " '7_1_Delimitación de cuenca hidrográfica.mp4',\n",
       " '7_2_Obtención de red hídrica.mp4',\n",
       " '8_1_Criterio de Análisis.mp4',\n",
       " '8_2_Generación de modelo RS - parte 1.mp4',\n",
       " '8_3_Generación de modelo RS parte 2.mp4',\n",
       " '8_4_Configuración de parámetros del modelo RS.mp4']"
      ]
     },
     "execution_count": 33,
     "metadata": {},
     "output_type": "execute_result"
    }
   ],
   "source": [
    "# Check files' names (extension .mp4)\n",
    "format = \".mp4\"\n",
    "for i in video_names_f:\n",
    "    if format in i:\n",
    "        video_namecheck.append(i)\n",
    "    else:\n",
    "        i += \".mp4\"\n",
    "        video_namecheck.append(i)\n",
    "        \n",
    "video_namecheck"
   ]
  },
  {
   "cell_type": "code",
   "execution_count": 34,
   "metadata": {
    "collapsed": true
   },
   "outputs": [
    {
     "name": "stdout",
     "output_type": "stream",
     "text": [
      "Downloading file 1: 1_1_Conceptos y nociones básicas de Model Builder.mp4\n",
      "Downloading file 2: 1_2_Reconocimento de interfaz de Model Builder.mp4\n",
      "Downloading file 3: 1_3_Crear Geoprocesos con Model Builder.mp4\n",
      "Downloading file 4: 1_4_Asignación de variables y parámetros.mp4\n",
      "Downloading file 5: 2_1_Generación de un modelo Automatizado.mp4\n",
      "Downloading file 6: 2_2_Definir variables y parámetros del modelo.mp4\n",
      "Downloading file 7: 2_3_Acceder a las propiedades del diagrama.mp4\n",
      "Downloading file 8: 2_4_Acceder a propiedades de modelo.mp4\n",
      "Downloading file 9: 3_1_Filtro de lista y rango de valores.mp4\n",
      "Downloading file 10: 3_2_Filtro de archivo y campo.mp4\n",
      "Downloading file 11: 3_3_Filtro de Entidad y Workspace.mp4\n",
      "Downloading file 12: 4_1_Administración de datos intermedios.mp4\n",
      "Downloading file 13: 4_2_Variable del modelo.mp4\n",
      "Downloading file 14: 4_3_Variable del sistema %n%.mp4\n",
      "Downloading file 15: 4_4_Variable del sistema %i%.mp4\n",
      "Downloading file 16: 5_1_Feature Selection.mp4\n",
      "Downloading file 17: 5_2_Iterador Raster.mp4\n",
      "Downloading file 18: 5_3_Iterador Feature Class.mp4\n",
      "Downloading file 19: 6_1_Mosaico de imágenes satelitales.mp4\n",
      "Downloading file 20: 6_2_Clasificación de imágenes satelitales.mp4\n",
      "Downloading file 21: 7_1_Delimitación de cuenca hidrográfica.mp4\n",
      "Downloading file 22: 7_2_Obtención de red hídrica.mp4\n",
      "Downloading file 23: 8_1_Criterio de Análisis.mp4\n",
      "Downloading file 24: 8_2_Generación de modelo RS - parte 1.mp4\n",
      "Downloading file 25: 8_3_Generación de modelo RS parte 2.mp4\n",
      "Downloading file 26: 8_4_Configuración de parámetros del modelo RS.mp4\n",
      "Download Complete, total links: 26\n"
     ]
    }
   ],
   "source": [
    "# Download videos, will not download repeated videos.\n",
    "n = 1\n",
    "for i, j in zip(bin_links, video_namecheck):\n",
    "    if os.path.isfile(f'{j}') is False:\n",
    "        print(\"Downloading file \"+str(n)+\": \" + str(j))\n",
    "        (\n",
    "            ffmpeg\n",
    "            .input(str(i))\n",
    "            .output(str(j), vcodec='copy', **{'loglevel': \"panic\"})\n",
    "            .run()\n",
    "        )\n",
    "        #time.sleep(2)\n",
    "        n +=1\n",
    "\n",
    "print(\"Download Complete, total videos:\", n-1)"
   ]
  },
  {
   "cell_type": "code",
   "execution_count": 50,
   "metadata": {
    "scrolled": true
   },
   "outputs": [
    {
     "name": "stdout",
     "output_type": "stream",
     "text": [
      "Course title:  ModelBuilder Automatización en ArcGIS\n",
      "Section titles are: \n"
     ]
    },
    {
     "data": {
      "text/plain": [
       "['Introducción a Model Builder',\n",
       " 'Configuración de parámetros de un modelo',\n",
       " 'Filtro de parámetros de un modelo',\n",
       " 'Administración de un modelo',\n",
       " 'Introducción a Iteradores',\n",
       " 'Imágenes satelitales',\n",
       " 'Delimitación de cuencas hidrográficas',\n",
       " 'Determinación de zonas para la ubicación de un Relleno Sanitario']"
      ]
     },
     "execution_count": 50,
     "metadata": {},
     "output_type": "execute_result"
    }
   ],
   "source": [
    "# Get course title and section titles from website.\n",
    "a = requests.get('https://mastergis.teachable.com/courses/1096517/lectures/23508906') #You must change the url\n",
    "soup = BeautifulSoup(a.content, 'html.parser')\n",
    "\n",
    "#Examples:\n",
    "#https://mastergis.teachable.com/courses/1073393/lectures/22874415 #ArcGis Completo\n",
    "#https://mastergis.teachable.com/courses/1095259/lectures/23464683 #Gestión de cuencas hidrograficas con ArcGIS\n",
    "#https://mastergis.teachable.com/courses/1096517/lectures/23508906 #Model Builder Automatización en ArcGIS\n",
    "\n",
    "course_title = []\n",
    "for tag in soup.find_all(\"h2\"):\n",
    "        course_title.append(tag.text.strip())\n",
    "\n",
    "section_titles = []\n",
    "for tag in soup.find_all(\"div\"):\n",
    "    try: \n",
    "        tag['data-course-id']\n",
    "        section_titles.append(tag.text.strip())\n",
    "    except: continue\n",
    "\n",
    "section_titles_f = []       \n",
    "for title in section_titles:\n",
    "    if title.startswith(\"Proyecto\"):\n",
    "        continue\n",
    "    else:\n",
    "        title = title.replace(\":\", \"-\")\n",
    "        section_titles_f.append(title)\n",
    "        \n",
    "print(\"Course title: \", course_title[0])\n",
    "print(\"Section titles are: \")\n",
    "section_titles_f"
   ]
  },
  {
   "cell_type": "code",
   "execution_count": 42,
   "metadata": {},
   "outputs": [
    {
     "name": "stdout",
     "output_type": "stream",
     "text": [
      "Folders created\n"
     ]
    }
   ],
   "source": [
    "# Create folders and move the respectives files.\n",
    "for i in  range(len(section_titles_f)):\n",
    "    i+=1\n",
    "    for j in glob.glob(f\"{i}_*\"):\n",
    "        if os.path.isdir(f'{course_title[0]}/{i}_{section_titles_f[i-1]}') is False:\n",
    "            os.makedirs(f'{course_title[0]}/{i}_{section_titles_f[i-1]}')\n",
    "            shutil.move(j, f'{course_title[0]}/{i}_{section_titles_f[i-1]}')\n",
    "        else:\n",
    "            shutil.move(j, f'{course_title[0]}/{i}_{section_titles_f[i-1]}')\n",
    "\n",
    "print(\"Folders created.\")\n",
    "print(\"Ty for using Copito\")"
   ]
  },
  {
   "cell_type": "markdown",
   "metadata": {},
   "source": [
    "# Falta (no tocar)"
   ]
  },
  {
   "cell_type": "code",
   "execution_count": 6,
   "metadata": {},
   "outputs": [],
   "source": [
    "os.chdir('../')\n",
    "os.chdir(\"angel_downloader\")"
   ]
  },
  {
   "cell_type": "code",
   "execution_count": 43,
   "metadata": {},
   "outputs": [],
   "source": [
    "import requests\n",
    "from bs4 import BeautifulSoup\n",
    "\n",
    "a = requests.get('https://mastergis.teachable.com/courses/1073393/lectures/22874415')\n",
    "soup = BeautifulSoup(a.content, 'html.parser')\n",
    "\n",
    "code_videos = []\n",
    "\n",
    "for tag in soup.find_all(\"li\"):\n",
    "    try: code_videos.append(tag['data-lecture-id'])\n",
    "    except: continue\n",
    "        \n",
    "#code_videos"
   ]
  },
  {
   "cell_type": "code",
   "execution_count": 44,
   "metadata": {},
   "outputs": [
    {
     "data": {
      "text/plain": [
       "179"
      ]
     },
     "execution_count": 44,
     "metadata": {},
     "output_type": "execute_result"
    }
   ],
   "source": [
    "len(code_videos)"
   ]
  },
  {
   "cell_type": "code",
   "execution_count": 47,
   "metadata": {},
   "outputs": [],
   "source": [
    "import requests\n",
    "from bs4 import BeautifulSoup\n",
    "\n",
    "a = requests.get('https://mastergis.teachable.com/courses/1073393/lectures/22874415')\n",
    "soup = BeautifulSoup(a.content, 'lxml')\n",
    "#soup"
   ]
  },
  {
   "cell_type": "code",
   "execution_count": 48,
   "metadata": {},
   "outputs": [],
   "source": [
    "import requests\n",
    "url = 'https://mastergis.teachable.com/courses/1073393/lectures/22874415'\n",
    "values = {'username': 'rsanchezc12@unc.edu.pe',\n",
    "          'password': 'pN84TPYGE6U9D9Q82P9KW'}\n",
    "\n",
    "a = requests.post(url, data=values)\n",
    "soup = BeautifulSoup(a.content, 'lxml')\n",
    "#soup"
   ]
  },
  {
   "cell_type": "code",
   "execution_count": 4,
   "metadata": {},
   "outputs": [
    {
     "name": "stdout",
     "output_type": "stream",
     "text": [
      "Optional: Would you like to I create folders for your files?\n",
      "(y/n)?\n",
      "\n",
      "y\n"
     ]
    }
   ],
   "source": [
    "ans = input(\"\"\"Optional: Would you like to I create folders for your files?\n",
    "(y/n)?\n",
    "\n",
    "\"\"\")"
   ]
  },
  {
   "cell_type": "code",
   "execution_count": 5,
   "metadata": {},
   "outputs": [
    {
     "name": "stdout",
     "output_type": "stream",
     "text": [
      "Please, give the link of the MasterGIS website\n",
      "For example: https://mastergis.teachable.com/courses/1073393/lectures/22874415\n",
      "    \n",
      "asdas\n"
     ]
    }
   ],
   "source": [
    "if ans == \"y\":\n",
    "    link = input(\"\"\"Please, give me the link of the MasterGIS website\n",
    "For example: https://mastergis.teachable.com/courses/1073393/lectures/22874415\n",
    "    \n",
    "\"\"\")\n",
    "    print(\"Ty, program finished\")\n",
    "else: print(\"Ty, program finished\")"
   ]
  },
  {
   "cell_type": "code",
   "execution_count": null,
   "metadata": {},
   "outputs": [],
   "source": []
  }
 ],
 "metadata": {
  "kernelspec": {
   "display_name": "Python 3",
   "language": "python",
   "name": "python3"
  },
  "language_info": {
   "codemirror_mode": {
    "name": "ipython",
    "version": 3
   },
   "file_extension": ".py",
   "mimetype": "text/x-python",
   "name": "python",
   "nbconvert_exporter": "python",
   "pygments_lexer": "ipython3",
   "version": "3.8.5"
  }
 },
 "nbformat": 4,
 "nbformat_minor": 4
}
